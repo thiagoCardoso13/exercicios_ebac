{
 "cells": [
  {
   "cell_type": "markdown",
   "metadata": {},
   "source": [
    "# Tarefa 03\n",
    "\n",
    "- Leia os enunciados com atenção\n",
    "- Saiba que pode haver mais de uma resposta correta\n",
    "- Insira novas células de código sempre que achar necessário\n",
    "- Em caso de dúvidas, procure os Tutores\n",
    "- Divirta-se :)"
   ]
  },
  {
   "cell_type": "code",
   "execution_count": 3,
   "metadata": {},
   "outputs": [],
   "source": [
    "import pandas as pd\n",
    "import requests"
   ]
  },
  {
   "cell_type": "markdown",
   "metadata": {},
   "source": [
    "####  1) Lendo de APIs\n",
    "Vimos em aula como carregar dados públicos do governo através de um API (*Application Programming Interface*). No exemplo de aula, baixamos os dados de pedidos de verificação de limites (PVL) realizados por estados, e selecionamos apenas aqueles referentes ao estado de São Paulo.\n",
    "\n",
    "1. Repita os mesmos passos feitos em aula, mas selecione os PVLs realizados por municípios no estado do Rio de Janeiro.\n",
    "2. Quais são os três *status* das solicitações mais frequentes na base? Quais são suas frequências?\n",
    "3. Construa uma nova variável que contenha o ano do **status**. Observe que ```data_status``` vem como tipo *object* no **DataFrame**. Dica: você pode usar o método ```.str``` para transformar o tipo da variável em string, em seguida um método como [**slice()**](https://pandas.pydata.org/docs/reference/api/pandas.Series.str.slice.html) ou [**split()**](https://pandas.pydata.org/pandas-docs/stable/reference/api/pandas.Series.str.split.html).\n",
    "4. Indique a frequência de cada ano do campo construído no item (3)."
   ]
  },
  {
   "cell_type": "code",
   "execution_count": 20,
   "metadata": {},
   "outputs": [
    {
     "name": "stdout",
     "output_type": "stream",
     "text": [
      "   id_pleito tipo_interessado         interessado  cod_ibge  uf  \\\n",
      "0      27100        Município      Rio de Janeiro   3304557  RJ   \n",
      "1      33609        Município           Vassouras   3306206  RJ   \n",
      "2       5643        Município  São João de Meriti   3305109  RJ   \n",
      "3       5914        Município           Nilópolis   3303203  RJ   \n",
      "4       5267        Município      Paraíba do Sul   3303708  RJ   \n",
      "\n",
      "                num_pvl                          status          num_processo  \\\n",
      "0  PVL02.002429/2017-78  Arquivado por decurso de prazo  17944.103668/2017-15   \n",
      "1  PVL02.002481/2019-96                        Deferido  17944.102288/2019-17   \n",
      "2                  None                       Arquivado  17944.000161/2010-26   \n",
      "3                  None                    Regularizado  17944.000231/2012-16   \n",
      "4                  None                    Regularizado  17944.000073/2014-58   \n",
      "\n",
      "         data_protocolo                tipo_operacao  \\\n",
      "0  2018-07-31T18:50:09Z  Operação contratual interna   \n",
      "1  2019-07-29T14:06:25Z  Operação contratual interna   \n",
      "2  2010-10-15T00:00:00Z  Operação contratual interna   \n",
      "3  2012-08-20T00:00:00Z  Operação contratual interna   \n",
      "4  2023-03-13T15:24:36Z  Operação contratual interna   \n",
      "\n",
      "                                   finalidade  \\\n",
      "0                              Infraestrutura   \n",
      "1                              Infraestrutura   \n",
      "2                   PAC - Saneamento - 2009 A   \n",
      "3  Regularização de Dívida - Energia Elétrica   \n",
      "4  Regularização de Dívida - Energia Elétrica   \n",
      "\n",
      "                       tipo_credor                                credor  \\\n",
      "0  Instituição Financeira Nacional               Caixa Econômica Federal   \n",
      "1  Instituição Financeira Nacional               Caixa Econômica Federal   \n",
      "2  Instituição Financeira Nacional               Caixa Econômica Federal   \n",
      "3              Empresa Não Estatal  Light - Serviços de Eletricidade S/A   \n",
      "4              Empresa Não Estatal  Light - Serviços de Eletricidade S/A   \n",
      "\n",
      "  moeda         valor  pvl_assoc_divida  pvl_contradado_credor data_status  \n",
      "0  Real  1.000000e+08                 0                      0  07/01/2019  \n",
      "1  Real  4.050000e+07                 0                      1  31/07/2019  \n",
      "2  Real  5.007494e+07                 0                      0  20/12/2010  \n",
      "3  Real  4.178062e+06                 0                      0  05/09/2012  \n",
      "4  Real  2.358312e+07                 0                      0  20/03/2023  \n"
     ]
    }
   ],
   "source": [
    "# 1) Seu código aqui\n",
    "url = 'https://apidatalake.tesouro.gov.br/ords/sadipem/tt/pvl'\n",
    "params = {\n",
    "    'uf':'RJ',\n",
    "    'ente':'Município'\n",
    "}\n",
    "\n",
    "r = requests.get(url, params = params)\n",
    "if r.status_code == 200:\n",
    "    data = r.json()\n",
    "    items = data.get('items', [])\n",
    "    df = pd.DataFrame(items)\n",
    "    print(df.head())\n",
    "else:\n",
    "    print(f\"Erro na requisição: {response.status_code}\")"
   ]
  },
  {
   "cell_type": "code",
   "execution_count": 26,
   "metadata": {},
   "outputs": [
    {
     "data": {
      "text/plain": [
       "status\n",
       "Deferido                                                 120\n",
       "Arquivado                                                 53\n",
       "Encaminhado à PGFN com manifestação técnica favorável     50\n",
       "Arquivado por decurso de prazo                            26\n",
       "Regularizado                                              26\n",
       "Name: count, dtype: int64"
      ]
     },
     "execution_count": 26,
     "metadata": {},
     "output_type": "execute_result"
    }
   ],
   "source": [
    "# 2) Seu código aqui\n",
    "top_status = df['status'].value_counts()\n",
    "top_status.head()"
   ]
  },
  {
   "cell_type": "code",
   "execution_count": 45,
   "metadata": {},
   "outputs": [
    {
     "name": "stdout",
     "output_type": "stream",
     "text": [
      "0      2019\n",
      "1      2019\n",
      "2      2010\n",
      "3      2012\n",
      "4      2023\n",
      "       ... \n",
      "320    2023\n",
      "321    2013\n",
      "322    2008\n",
      "323    2011\n",
      "324    2013\n",
      "Name: ano_status, Length: 325, dtype: object\n"
     ]
    }
   ],
   "source": [
    "# 3) Seu código aqui\n",
    "df[\"data_status\"] = df[\"data_status\"].astype(str)\n",
    "df['ano_status'] = df['data_status'].str.slice(6)\n",
    "print(df['ano_status'])"
   ]
  },
  {
   "cell_type": "code",
   "execution_count": 46,
   "metadata": {},
   "outputs": [
    {
     "data": {
      "text/plain": [
       "ano_status\n",
       "2008    39\n",
       "2007    29\n",
       "2023    28\n",
       "2014    24\n",
       "2012    24\n",
       "2013    22\n",
       "2010    22\n",
       "2009    18\n",
       "2019    16\n",
       "2011    16\n",
       "2020    15\n",
       "2022    11\n",
       "2015     8\n",
       "2024     8\n",
       "2002     8\n",
       "2016     8\n",
       "2025     7\n",
       "2006     6\n",
       "2017     5\n",
       "2021     5\n",
       "2018     4\n",
       "2003     1\n",
       "2004     1\n",
       "Name: count, dtype: int64"
      ]
     },
     "execution_count": 46,
     "metadata": {},
     "output_type": "execute_result"
    }
   ],
   "source": [
    "# 4) Seu código aqui\n",
    "frequencia = df['ano_status'].value_counts()\n",
    "frequencia"
   ]
  },
  {
   "cell_type": "markdown",
   "metadata": {},
   "source": [
    "####  2) Melhorando a interação com o API\n",
    "Observe dois URLs de consultas diferentes, por exemplo o URL utilizado em aula, e o URL feito no exercício anterior. Compare-os e observe as diferenças.\n",
    "\n",
    "1. Faça uma função em Python que recebe como argumento o UF da consulta e o tipo de interessado (```'Estado'```ou ```Município```), e que devolve os dados da consulta no formato *DataFrame*.\n",
    "2. Quantas solicitações para o Estado podem ser consultadas para Minas Gerais com *status* em 'Arquivado por decurso de prazo' estão registradas?\n",
    "3. Qual é o município da Bahia com mais solicitações deferidas?\n",
    "4. Salve um arquivo .csv com os dados de solicitações da Bahia, com interessado = 'Estado'"
   ]
  },
  {
   "cell_type": "code",
   "execution_count": 48,
   "metadata": {},
   "outputs": [],
   "source": [
    "#1) Seu código aqui\n",
    "def consulta_pvl(uf, ente):\n",
    "    params = {'uf': uf, 'ente': ente}\n",
    "    \n",
    "    response = requests.get(url, params=params)\n",
    "    if response.status_code == 200:\n",
    "        dados = response.json()['items']\n",
    "        return pd.DataFrame(dados)\n",
    "    else:\n",
    "        raise Exception(f'Erro na requisição: {response.status_code}')"
   ]
  },
  {
   "cell_type": "code",
   "execution_count": 50,
   "metadata": {},
   "outputs": [
    {
     "name": "stdout",
     "output_type": "stream",
     "text": [
      "306\n"
     ]
    }
   ],
   "source": [
    "# 2) Seu código aqui\n",
    "df_mg_estado = consulta_pvl('MG', 'estado')\n",
    "filtro = df_mg_estado['status'] == 'Arquivado por decurso de prazo'\n",
    "quantidade = df_mg_estado[filtro].shape[0]\n",
    "print(quantidade)"
   ]
  },
  {
   "cell_type": "code",
   "execution_count": 72,
   "metadata": {},
   "outputs": [
    {
     "name": "stdout",
     "output_type": "stream",
     "text": [
      "O município com o maior número de solicitações deferidas é Luís Eduardo Magalhães com 16\n"
     ]
    }
   ],
   "source": [
    "# 3) Seu código aqui\n",
    "df_ba_municipio = consulta_pvl('BA', 'Município')\n",
    "df_deferidos = df_ba_municipio[df_ba_municipio['status'] == 'Deferido']\n",
    "mais_deferidos = df_deferidos['interessado'].value_counts().head(2)\n",
    "municipio_top = mais_deferidos.index[1]\n",
    "quantidade = mais_deferidos.iloc[1]\n",
    "print(f'O município com o maior número de solicitações deferidas é {municipio_top} com {quantidade}')"
   ]
  },
  {
   "cell_type": "code",
   "execution_count": 73,
   "metadata": {},
   "outputs": [],
   "source": [
    "# 4) Seu código aqui\n",
    "df_bahia_estado = consulta_pvl(\"BA\", \"Estado\")\n",
    "df_bahia_estado.to_csv(\"solicitacoes_bahia_estado.csv\", index=False)"
   ]
  },
  {
   "cell_type": "code",
   "execution_count": null,
   "metadata": {},
   "outputs": [],
   "source": []
  }
 ],
 "metadata": {
  "kernelspec": {
   "display_name": "Python [conda env:base] *",
   "language": "python",
   "name": "conda-base-py"
  },
  "language_info": {
   "codemirror_mode": {
    "name": "ipython",
    "version": 3
   },
   "file_extension": ".py",
   "mimetype": "text/x-python",
   "name": "python",
   "nbconvert_exporter": "python",
   "pygments_lexer": "ipython3",
   "version": "3.12.7"
  }
 },
 "nbformat": 4,
 "nbformat_minor": 4
}

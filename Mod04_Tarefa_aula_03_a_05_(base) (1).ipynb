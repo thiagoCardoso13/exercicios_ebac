{
 "cells": [
  {
   "cell_type": "markdown",
   "metadata": {
    "id": "njUvbhQmC8-t"
   },
   "source": [
    "## Exercício 1: Vestibular\n",
    "\n",
    "Considere que a os dados gerados na célula abaixo contêm o número de acertos de 100 alunos em um vestibular para um curso de exatas, divididas pelos respectivos assuntos. Considere que cada assunto possui um número de questões conforme a tabela abaixo:\n",
    "\n",
    "| assunto | número de questões |\n",
    "|:---:|:---:|\n",
    "| Matemática | 24 |\n",
    "| Português | 18 |\n",
    "| Geografia | 8 |\n",
    "| Inglês | 8 |\n",
    "| História | 8 |\n",
    "| Física | 12 |\n",
    "| Química | 12 |\n",
    "\n",
    "Usando os comandos de operações com DataFrames que você aprendeu na Aula 03, calcule:\n",
    "\n",
    "1. (operações com escalar) Calcule o percentual de acerto dos alunos por assunto.  \n",
    "2. (operações entre *DataFrames) Calcule o total de acertos de cada aluno.  \n",
    "3. Calcule o porcentual geral de cada aluno.  \n",
    "4. Suponha que a nota de corte para a segunda fase seja 45. Quantos alunos tiveram nota maior que 45?  "
   ]
  },
  {
   "cell_type": "code",
   "execution_count": 1,
   "metadata": {
    "id": "Ll6TadxCC8-y"
   },
   "outputs": [],
   "source": [
    "import pandas as pd\n",
    "import numpy as np\n",
    "\n",
    "np.random.seed(42)\n",
    "df_mat = pd.DataFrame(np.random.randint(24, size=(100, 1)), columns=['Qt_acertos'])\n",
    "\n",
    "df_por = pd.DataFrame(np.random.randint(18, size=(100, 1)), columns=['Qt_acertos'])\n",
    "\n",
    "df_geo = pd.DataFrame(np.random.randint(8, size=(100, 1)), columns=['Qt_acertos'])\n",
    "\n",
    "df_ing = pd.DataFrame(np.random.randint(8, size=(100, 1)), columns=['Qt_acertos'])\n",
    "\n",
    "df_his = pd.DataFrame(np.random.randint(8, size=(100, 1)), columns=['Qt_acertos'])\n",
    "\n",
    "df_fis = pd.DataFrame(np.random.randint(12, size=(100, 1)), columns=['Qt_acertos'])\n",
    "\n",
    "df_qui = pd.DataFrame(np.random.randint(12, size=(100, 1)), columns=['Qt_acertos'])"
   ]
  },
  {
   "cell_type": "code",
   "execution_count": 9,
   "metadata": {
    "id": "JVmLXiC2C8-0"
   },
   "outputs": [],
   "source": [
    "# 1) Seu código aqui\n",
    "df_mat['Perc_acertos'] = (df_mat['Qt_acertos'].sum() / 24) * 100\n",
    "\n",
    "df_por['Perc_acertos'] = (df_por['Qt_acertos'].sum() / 18) * 100\n",
    "\n",
    "df_geo['Perc_acertos'] = (df_geo['Qt_acertos'].sum() / 8) * 100\n",
    "\n",
    "df_ing['Perc_acertos'] = (df_ing['Qt_acertos'].sum() / 8) * 100\n",
    "\n",
    "df_his['Perc_acertos'] = (df_his['Qt_acertos'].sum() / 8) * 100\n",
    "\n",
    "df_fis['Perc_acertos'] = (df_fis['Qt_acertos'].sum() / 12) * 100\n",
    "\n",
    "df_qui['Perc_acertos'] = (df_qui['Qt_acertos'].sum() / 12) * 100\n"
   ]
  },
  {
   "cell_type": "code",
   "execution_count": 12,
   "metadata": {
    "id": "JbTwCyNHC8-1"
   },
   "outputs": [
    {
     "data": {
      "text/html": [
       "<div>\n",
       "<style scoped>\n",
       "    .dataframe tbody tr th:only-of-type {\n",
       "        vertical-align: middle;\n",
       "    }\n",
       "\n",
       "    .dataframe tbody tr th {\n",
       "        vertical-align: top;\n",
       "    }\n",
       "\n",
       "    .dataframe thead th {\n",
       "        text-align: right;\n",
       "    }\n",
       "</style>\n",
       "<table border=\"1\" class=\"dataframe\">\n",
       "  <thead>\n",
       "    <tr style=\"text-align: right;\">\n",
       "      <th></th>\n",
       "      <th>Total_acertos</th>\n",
       "    </tr>\n",
       "  </thead>\n",
       "  <tbody>\n",
       "    <tr>\n",
       "      <th>0</th>\n",
       "      <td>35</td>\n",
       "    </tr>\n",
       "    <tr>\n",
       "      <th>1</th>\n",
       "      <td>48</td>\n",
       "    </tr>\n",
       "    <tr>\n",
       "      <th>2</th>\n",
       "      <td>50</td>\n",
       "    </tr>\n",
       "    <tr>\n",
       "      <th>3</th>\n",
       "      <td>32</td>\n",
       "    </tr>\n",
       "    <tr>\n",
       "      <th>4</th>\n",
       "      <td>30</td>\n",
       "    </tr>\n",
       "  </tbody>\n",
       "</table>\n",
       "</div>"
      ],
      "text/plain": [
       "   Total_acertos\n",
       "0             35\n",
       "1             48\n",
       "2             50\n",
       "3             32\n",
       "4             30"
      ]
     },
     "execution_count": 12,
     "metadata": {},
     "output_type": "execute_result"
    }
   ],
   "source": [
    "# 2) Seu código aqui\n",
    "df_total_acertos = pd.DataFrame({\n",
    "    'Total_acertos':\n",
    "    df_mat['Qt_acertos'] +\n",
    "    df_por['Qt_acertos'] +\n",
    "    df_geo['Qt_acertos'] +\n",
    "    df_ing['Qt_acertos'] +\n",
    "    df_his['Qt_acertos'] +\n",
    "    df_fis['Qt_acertos'] +\n",
    "    df_qui['Qt_acertos'] \n",
    "})\n",
    "df_total_acertos.head()"
   ]
  },
  {
   "cell_type": "code",
   "execution_count": 15,
   "metadata": {
    "id": "c2L8dJkVC8-3"
   },
   "outputs": [
    {
     "data": {
      "text/html": [
       "<div>\n",
       "<style scoped>\n",
       "    .dataframe tbody tr th:only-of-type {\n",
       "        vertical-align: middle;\n",
       "    }\n",
       "\n",
       "    .dataframe tbody tr th {\n",
       "        vertical-align: top;\n",
       "    }\n",
       "\n",
       "    .dataframe thead th {\n",
       "        text-align: right;\n",
       "    }\n",
       "</style>\n",
       "<table border=\"1\" class=\"dataframe\">\n",
       "  <thead>\n",
       "    <tr style=\"text-align: right;\">\n",
       "      <th></th>\n",
       "      <th>Total_acertos</th>\n",
       "      <th>Percentual_geral</th>\n",
       "    </tr>\n",
       "  </thead>\n",
       "  <tbody>\n",
       "    <tr>\n",
       "      <th>0</th>\n",
       "      <td>35</td>\n",
       "      <td>38.888889</td>\n",
       "    </tr>\n",
       "    <tr>\n",
       "      <th>1</th>\n",
       "      <td>48</td>\n",
       "      <td>53.333333</td>\n",
       "    </tr>\n",
       "    <tr>\n",
       "      <th>2</th>\n",
       "      <td>50</td>\n",
       "      <td>55.555556</td>\n",
       "    </tr>\n",
       "    <tr>\n",
       "      <th>3</th>\n",
       "      <td>32</td>\n",
       "      <td>35.555556</td>\n",
       "    </tr>\n",
       "    <tr>\n",
       "      <th>4</th>\n",
       "      <td>30</td>\n",
       "      <td>33.333333</td>\n",
       "    </tr>\n",
       "  </tbody>\n",
       "</table>\n",
       "</div>"
      ],
      "text/plain": [
       "   Total_acertos  Percentual_geral\n",
       "0             35         38.888889\n",
       "1             48         53.333333\n",
       "2             50         55.555556\n",
       "3             32         35.555556\n",
       "4             30         33.333333"
      ]
     },
     "execution_count": 15,
     "metadata": {},
     "output_type": "execute_result"
    }
   ],
   "source": [
    "# 3) Seu código aqui\n",
    "df_total_acertos[\"Percentual_geral\"] = (df_total_acertos[\"Total_acertos\"] / 90) * 100\n",
    "df_total_acertos.head()"
   ]
  },
  {
   "cell_type": "code",
   "execution_count": 20,
   "metadata": {
    "id": "PZTZ7DFzC8-3"
   },
   "outputs": [
    {
     "data": {
      "text/plain": [
       "31"
      ]
     },
     "execution_count": 20,
     "metadata": {},
     "output_type": "execute_result"
    }
   ],
   "source": [
    "# 4) Seu código aqui\n",
    "aprovados = (df_total_acertos['Total_acertos'] > 45).sum()\n",
    "aprovados"
   ]
  },
  {
   "cell_type": "markdown",
   "metadata": {
    "id": "Hlfl75XXC8-4"
   },
   "source": [
    "## 2) Vestibular II\n",
    "\n",
    "Ainda sobre o mesmo banco de dados:\n",
    "\n",
    "1. Neste vestibular, quem 'zera' em matemática, física ou química está desqualificado. Monte um novo *DataFrame* com os alunos desqualificados por este critério.\n",
    "2. Quantos são esses alunos?\n",
    "3. Qual a média desses alunos em história e geografia?\n",
    "4. Monte um *DataFrame* com os alunos que passaram para a segunda fase. Repare que estes alunos não podem ter sido desqualificados."
   ]
  },
  {
   "cell_type": "code",
   "execution_count": 39,
   "metadata": {
    "id": "hPaMGXvJC8-4"
   },
   "outputs": [
    {
     "data": {
      "text/html": [
       "<div>\n",
       "<style scoped>\n",
       "    .dataframe tbody tr th:only-of-type {\n",
       "        vertical-align: middle;\n",
       "    }\n",
       "\n",
       "    .dataframe tbody tr th {\n",
       "        vertical-align: top;\n",
       "    }\n",
       "\n",
       "    .dataframe thead th {\n",
       "        text-align: right;\n",
       "    }\n",
       "</style>\n",
       "<table border=\"1\" class=\"dataframe\">\n",
       "  <thead>\n",
       "    <tr style=\"text-align: right;\">\n",
       "      <th></th>\n",
       "      <th>Total_acertos</th>\n",
       "      <th>Percentual_geral</th>\n",
       "    </tr>\n",
       "  </thead>\n",
       "  <tbody>\n",
       "    <tr>\n",
       "      <th>3</th>\n",
       "      <td>32</td>\n",
       "      <td>35.555556</td>\n",
       "    </tr>\n",
       "    <tr>\n",
       "      <th>6</th>\n",
       "      <td>29</td>\n",
       "      <td>32.222222</td>\n",
       "    </tr>\n",
       "    <tr>\n",
       "      <th>10</th>\n",
       "      <td>31</td>\n",
       "      <td>34.444444</td>\n",
       "    </tr>\n",
       "    <tr>\n",
       "      <th>12</th>\n",
       "      <td>42</td>\n",
       "      <td>46.666667</td>\n",
       "    </tr>\n",
       "    <tr>\n",
       "      <th>14</th>\n",
       "      <td>31</td>\n",
       "      <td>34.444444</td>\n",
       "    </tr>\n",
       "  </tbody>\n",
       "</table>\n",
       "</div>"
      ],
      "text/plain": [
       "    Total_acertos  Percentual_geral\n",
       "3              32         35.555556\n",
       "6              29         32.222222\n",
       "10             31         34.444444\n",
       "12             42         46.666667\n",
       "14             31         34.444444"
      ]
     },
     "execution_count": 39,
     "metadata": {},
     "output_type": "execute_result"
    }
   ],
   "source": [
    "# seu código aqui\n",
    "Cond_Desqualificados = (\n",
    "    (df_mat['Qt_acertos'] == 0) | \n",
    "    (df_fis['Qt_acertos'] == 0) |\n",
    "    (df_qui['Qt_acertos'] == 0) \n",
    ")\n",
    "desqualificados = df_total_acertos[Cond_Desqualificados]\n",
    "desqualificados.head()"
   ]
  },
  {
   "cell_type": "code",
   "execution_count": 43,
   "metadata": {},
   "outputs": [
    {
     "data": {
      "text/plain": [
       "23"
      ]
     },
     "execution_count": 43,
     "metadata": {},
     "output_type": "execute_result"
    }
   ],
   "source": [
    "len(desqualificados)"
   ]
  },
  {
   "cell_type": "code",
   "execution_count": 51,
   "metadata": {},
   "outputs": [
    {
     "name": "stdout",
     "output_type": "stream",
     "text": [
      "A média em história é de: 3.43\n",
      "A média em geografia é de: 3.22\n"
     ]
    }
   ],
   "source": [
    "media_his = df_his.loc[Cond_Desqualificados, \"Qt_acertos\"].mean()\n",
    "media_geo = df_geo.loc[Cond_Desqualificados, \"Qt_acertos\"].mean()\n",
    "print(f'A média em história é de: {media_his:.2f}')\n",
    "print(f'A média em geografia é de: {media_geo:.2f}')"
   ]
  },
  {
   "cell_type": "code",
   "execution_count": 53,
   "metadata": {},
   "outputs": [
    {
     "data": {
      "text/html": [
       "<div>\n",
       "<style scoped>\n",
       "    .dataframe tbody tr th:only-of-type {\n",
       "        vertical-align: middle;\n",
       "    }\n",
       "\n",
       "    .dataframe tbody tr th {\n",
       "        vertical-align: top;\n",
       "    }\n",
       "\n",
       "    .dataframe thead th {\n",
       "        text-align: right;\n",
       "    }\n",
       "</style>\n",
       "<table border=\"1\" class=\"dataframe\">\n",
       "  <thead>\n",
       "    <tr style=\"text-align: right;\">\n",
       "      <th></th>\n",
       "      <th>Total_acertos</th>\n",
       "      <th>Percentual_geral</th>\n",
       "    </tr>\n",
       "  </thead>\n",
       "  <tbody>\n",
       "    <tr>\n",
       "      <th>1</th>\n",
       "      <td>48</td>\n",
       "      <td>53.333333</td>\n",
       "    </tr>\n",
       "    <tr>\n",
       "      <th>2</th>\n",
       "      <td>50</td>\n",
       "      <td>55.555556</td>\n",
       "    </tr>\n",
       "    <tr>\n",
       "      <th>5</th>\n",
       "      <td>50</td>\n",
       "      <td>55.555556</td>\n",
       "    </tr>\n",
       "    <tr>\n",
       "      <th>7</th>\n",
       "      <td>49</td>\n",
       "      <td>54.444444</td>\n",
       "    </tr>\n",
       "    <tr>\n",
       "      <th>8</th>\n",
       "      <td>58</td>\n",
       "      <td>64.444444</td>\n",
       "    </tr>\n",
       "  </tbody>\n",
       "</table>\n",
       "</div>"
      ],
      "text/plain": [
       "   Total_acertos  Percentual_geral\n",
       "1             48         53.333333\n",
       "2             50         55.555556\n",
       "5             50         55.555556\n",
       "7             49         54.444444\n",
       "8             58         64.444444"
      ]
     },
     "execution_count": 53,
     "metadata": {},
     "output_type": "execute_result"
    }
   ],
   "source": [
    "Cond_aprovado = df_total_acertos['Total_acertos'] > 45\n",
    "N_Des = (\n",
    "    (df_mat['Qt_acertos'] > 0) | \n",
    "    (df_fis['Qt_acertos'] > 0) |\n",
    "    (df_qui['Qt_acertos'] > 0) \n",
    ")\n",
    "df_segunda_fase = df_total_acertos[Cond_aprovado & N_Des]\n",
    "df_segunda_fase.head()"
   ]
  },
  {
   "cell_type": "code",
   "execution_count": 54,
   "metadata": {},
   "outputs": [
    {
     "data": {
      "text/plain": [
       "31"
      ]
     },
     "execution_count": 54,
     "metadata": {},
     "output_type": "execute_result"
    }
   ],
   "source": [
    "len(df_segunda_fase)"
   ]
  },
  {
   "cell_type": "markdown",
   "metadata": {
    "id": "EGBUWpAHC8-5"
   },
   "source": [
    "## 3) Vacinações no Acre\n",
    "Vamos trabalhar agora com a base de vacinações no Acre. Para facilitar a sua vida, copiamos o link do arquivo na célula abaixo.\n",
    "\n",
    "1. Quantas vacinas estão registradas nessa base?  \n",
    "2. Quantos pacientes foram vacinados? (considere um paciente para cada valor único de ```paciente_id```)  \n",
    "3. Quantos pacientes únicos tomaram a primeira dose? OBS: Há um caractere especial neste campo. Receba os valores do campo com o método ```.unique()```.   \n",
    "4. Quantos pacientes com menos de 18 anos foram vacinados?  \n",
    "5. Quantos estabelecimentos aplicaram vacina no Acre?\n",
    "\n",
    "\n",
    "**OBS:** O portal do DATASUS pode apresentar instabilidades, retornando um erro na segunda célula abaixo. Por este motivo está disponível uma base estática, que se for baixada para o seu *working directory* pode ser lida com este comando: ```df = pd.read_csv('registros de vacinacao covid ACRE.csv', sep=';')```.\n",
    "\n",
    "**OBS2:** Para saber qual é o seu working directory, rode no jupyter: ```!pwd```."
   ]
  },
  {
   "cell_type": "code",
   "execution_count": 38,
   "metadata": {
    "id": "ET4r139hC8-5"
   },
   "outputs": [],
   "source": [
    "arquivo = 'https://s3.sa-east-1.amazonaws.com/ckan.saude.gov.br/SIPNI/COVID/uf/uf%3DAC/part-00000-5ed92752-6121-474f-ab37-816918134afc.c000.csv'"
   ]
  },
  {
   "cell_type": "code",
   "execution_count": 61,
   "metadata": {
    "id": "SC9YMWLSC8-6"
   },
   "outputs": [
    {
     "data": {
      "text/plain": [
       "169071"
      ]
     },
     "execution_count": 61,
     "metadata": {},
     "output_type": "execute_result"
    }
   ],
   "source": [
    "# 1) Sua solução aqui\n",
    "df = pd.read_csv('registros de vacinacao covid ACRE.csv', sep=';')\n",
    "len(df)"
   ]
  },
  {
   "cell_type": "code",
   "execution_count": 63,
   "metadata": {
    "id": "PMztY1RlC8-7"
   },
   "outputs": [
    {
     "data": {
      "text/plain": [
       "120517"
      ]
     },
     "execution_count": 63,
     "metadata": {},
     "output_type": "execute_result"
    }
   ],
   "source": [
    "# 2)\n",
    "total_pacientes = df['paciente_id'].nunique()\n",
    "total_pacientes"
   ]
  },
  {
   "cell_type": "code",
   "execution_count": 69,
   "metadata": {
    "id": "V_wr--3JC8-7"
   },
   "outputs": [
    {
     "data": {
      "text/plain": [
       "119713"
      ]
     },
     "execution_count": 69,
     "metadata": {},
     "output_type": "execute_result"
    }
   ],
   "source": [
    "# 3)\n",
    "pri_dose_pacientes = df[df['vacina_descricao_dose'].str.contains('1ª', na = False)]['paciente_id'].nunique()\n",
    "pri_dose_pacientes"
   ]
  },
  {
   "cell_type": "code",
   "execution_count": null,
   "metadata": {
    "id": "SPHgIxtcC8-7"
   },
   "outputs": [],
   "source": [
    "# 3) solução alternativa\n"
   ]
  },
  {
   "cell_type": "code",
   "execution_count": 73,
   "metadata": {
    "id": "S6ab9ExEC8-7"
   },
   "outputs": [
    {
     "data": {
      "text/plain": [
       "47"
      ]
     },
     "execution_count": 73,
     "metadata": {},
     "output_type": "execute_result"
    }
   ],
   "source": [
    "# 4)\n",
    "pacientes_menores = df[df['paciente_idade'] < 18]['paciente_id'].nunique()\n",
    "pacientes_menores"
   ]
  },
  {
   "cell_type": "code",
   "execution_count": 90,
   "metadata": {
    "id": "PVrY_-qlC8-8"
   },
   "outputs": [
    {
     "data": {
      "text/plain": [
       "102"
      ]
     },
     "execution_count": 90,
     "metadata": {},
     "output_type": "execute_result"
    }
   ],
   "source": [
    "# 5)\n",
    "estabelecimentos = df['estabelecimento_valor'].nunique()\n",
    "estabelecimentos"
   ]
  },
  {
   "cell_type": "markdown",
   "metadata": {
    "id": "LH1LSYvGC8-8"
   },
   "source": [
    "## 4) Vacinação II\n",
    "Gere um *DataFrame* que contenha somente os estabelecimentos que aplicaram vcinas a menores de 18 anos. Nesse *DataFrame* devem conter somente os dados dos estabelecimentos, mais uma coluna sendo a quantidade de vacinas que o estabelecimento aplicou a menores de 18 anos.  \n",
    "  \n",
    "1. crie uma cópia do *DataFrame* original, contendo somente os registros de vacinas realizadas a menores de 18 anos.  \n",
    "2. crie uma lista das colunas desse *DataFrame* com o atributo de *DataFrame* **.columns()**  \n",
    "3. Nesse *DataFrame* faça uma contagem do campo ```vacina_categoria_nome```.\n",
    "3. a partir da lista de colunas, escolha somente aquelas que são referentes ao estabelecimento, faça uma lista com esses valores.  \n",
    "4. usando o método *.loc*, selecione somente essas variáveis  \n",
    "5. Aplique o método **.drop_duplicates** e crie uma lista com uma linha para cada estabelecimento, com os dados do estabelecimento  "
   ]
  },
  {
   "cell_type": "code",
   "execution_count": 93,
   "metadata": {
    "id": "3ojs12vUC8-8"
   },
   "outputs": [
    {
     "data": {
      "text/html": [
       "<div>\n",
       "<style scoped>\n",
       "    .dataframe tbody tr th:only-of-type {\n",
       "        vertical-align: middle;\n",
       "    }\n",
       "\n",
       "    .dataframe tbody tr th {\n",
       "        vertical-align: top;\n",
       "    }\n",
       "\n",
       "    .dataframe thead th {\n",
       "        text-align: right;\n",
       "    }\n",
       "</style>\n",
       "<table border=\"1\" class=\"dataframe\">\n",
       "  <thead>\n",
       "    <tr style=\"text-align: right;\">\n",
       "      <th></th>\n",
       "      <th>document_id</th>\n",
       "      <th>paciente_id</th>\n",
       "      <th>paciente_idade</th>\n",
       "      <th>paciente_datanascimento</th>\n",
       "      <th>paciente_enumsexobiologico</th>\n",
       "      <th>paciente_racacor_codigo</th>\n",
       "      <th>paciente_racacor_valor</th>\n",
       "      <th>paciente_endereco_coibgemunicipio</th>\n",
       "      <th>paciente_endereco_copais</th>\n",
       "      <th>paciente_endereco_nmmunicipio</th>\n",
       "      <th>...</th>\n",
       "      <th>vacina_lote</th>\n",
       "      <th>vacina_fabricante_nome</th>\n",
       "      <th>vacina_fabricante_referencia</th>\n",
       "      <th>vacina_dataaplicacao</th>\n",
       "      <th>vacina_descricao_dose</th>\n",
       "      <th>vacina_codigo</th>\n",
       "      <th>vacina_nome</th>\n",
       "      <th>sistema_origem</th>\n",
       "      <th>data_importacao_rnds</th>\n",
       "      <th>id_sistema_origem</th>\n",
       "    </tr>\n",
       "  </thead>\n",
       "  <tbody>\n",
       "    <tr>\n",
       "      <th>1567</th>\n",
       "      <td>fdca313f-b348-422d-94d4-f2c66a87868c-i0b0</td>\n",
       "      <td>f5e6b8c44f7c4d13a87c582def5e8d460435b02f26af8c...</td>\n",
       "      <td>17</td>\n",
       "      <td>2003-07-18</td>\n",
       "      <td>F</td>\n",
       "      <td>4</td>\n",
       "      <td>AMARELA</td>\n",
       "      <td>120025.0</td>\n",
       "      <td>10.0</td>\n",
       "      <td>EPITACIOLANDIA</td>\n",
       "      <td>...</td>\n",
       "      <td>213VCD003W</td>\n",
       "      <td>FUNDACAO OSWALDO CRUZ</td>\n",
       "      <td>Organization/33781055000135</td>\n",
       "      <td>2021-05-12</td>\n",
       "      <td>1ª Dose</td>\n",
       "      <td>85</td>\n",
       "      <td>Vacina Covid-19 - Covishield</td>\n",
       "      <td>Novo PNI</td>\n",
       "      <td>2021-05-13T16:16:42.000Z</td>\n",
       "      <td>NaN</td>\n",
       "    </tr>\n",
       "    <tr>\n",
       "      <th>6250</th>\n",
       "      <td>b7431955-1faa-4c1e-9246-7c1e7b8bb3cb-i0b0</td>\n",
       "      <td>e1a45c07e3c393d5f0eccf4204a7ceab338f4f06696ecb...</td>\n",
       "      <td>16</td>\n",
       "      <td>2004-05-18</td>\n",
       "      <td>M</td>\n",
       "      <td>3</td>\n",
       "      <td>PARDA</td>\n",
       "      <td>120040.0</td>\n",
       "      <td>10.0</td>\n",
       "      <td>RIO BRANCO</td>\n",
       "      <td>...</td>\n",
       "      <td>200278</td>\n",
       "      <td>FUNDACAO BUTANTAN</td>\n",
       "      <td>Organization/61189445000156</td>\n",
       "      <td>2021-01-29</td>\n",
       "      <td>1ª Dose</td>\n",
       "      <td>86</td>\n",
       "      <td>Covid-19-Coronavac-Sinovac/Butantan</td>\n",
       "      <td>Novo PNI</td>\n",
       "      <td>2021-02-06T14:02:07.000Z</td>\n",
       "      <td>NaN</td>\n",
       "    </tr>\n",
       "    <tr>\n",
       "      <th>9569</th>\n",
       "      <td>fdb8d3b6-14d9-4bcc-9cfe-acd46b4a317a-i0b0</td>\n",
       "      <td>7cf3b238383a70eeb26841c01817737c9706d5b231e8c2...</td>\n",
       "      <td>17</td>\n",
       "      <td>2004-01-23</td>\n",
       "      <td>F</td>\n",
       "      <td>99</td>\n",
       "      <td>SEM INFORMACAO</td>\n",
       "      <td>120020.0</td>\n",
       "      <td>10.0</td>\n",
       "      <td>CRUZEIRO DO SUL</td>\n",
       "      <td>...</td>\n",
       "      <td>213VCD042Z</td>\n",
       "      <td>FUNDACAO OSWALDO CRUZ</td>\n",
       "      <td>Organization/33781055000135</td>\n",
       "      <td>2021-05-15</td>\n",
       "      <td>1ª Dose</td>\n",
       "      <td>85</td>\n",
       "      <td>Vacina Covid-19 - Covishield</td>\n",
       "      <td>Novo PNI</td>\n",
       "      <td>2021-05-18T03:17:02.000Z</td>\n",
       "      <td>NaN</td>\n",
       "    </tr>\n",
       "    <tr>\n",
       "      <th>11338</th>\n",
       "      <td>647e2301-3ba4-463a-8d1e-2b6f38a4d99e-i0b0</td>\n",
       "      <td>53eb7fed5faa26ad17ce21ee378f28e25399ab7e90bc05...</td>\n",
       "      <td>17</td>\n",
       "      <td>2003-05-04</td>\n",
       "      <td>F</td>\n",
       "      <td>4</td>\n",
       "      <td>AMARELA</td>\n",
       "      <td>120030.0</td>\n",
       "      <td>10.0</td>\n",
       "      <td>FEIJO</td>\n",
       "      <td>...</td>\n",
       "      <td>4120Z004</td>\n",
       "      <td>FUNDACAO OSWALDO CRUZ</td>\n",
       "      <td>Organization/33781055000135</td>\n",
       "      <td>2021-02-09</td>\n",
       "      <td>1ª Dose</td>\n",
       "      <td>85</td>\n",
       "      <td>Vacina Covid-19 - Covishield</td>\n",
       "      <td>Novo PNI</td>\n",
       "      <td>2021-02-09T22:08:13.000Z</td>\n",
       "      <td>NaN</td>\n",
       "    </tr>\n",
       "    <tr>\n",
       "      <th>15144</th>\n",
       "      <td>7f469e03-bece-49d0-bebc-33ad98e27f54-i0b0</td>\n",
       "      <td>dbaa6420d8a815158387668d0a59a19cf2bb63958e35d1...</td>\n",
       "      <td>16</td>\n",
       "      <td>2004-08-22</td>\n",
       "      <td>F</td>\n",
       "      <td>5</td>\n",
       "      <td>INDIGENA</td>\n",
       "      <td>120035.0</td>\n",
       "      <td>10.0</td>\n",
       "      <td>MARECHAL THAUMATURGO</td>\n",
       "      <td>...</td>\n",
       "      <td>202010028</td>\n",
       "      <td>FUNDACAO BUTANTAN</td>\n",
       "      <td>Organization/61189445000156</td>\n",
       "      <td>2021-01-28</td>\n",
       "      <td>1ª Dose</td>\n",
       "      <td>86</td>\n",
       "      <td>Covid-19-Coronavac-Sinovac/Butantan</td>\n",
       "      <td>Novo PNI</td>\n",
       "      <td>2021-02-09T19:26:03.000Z</td>\n",
       "      <td>NaN</td>\n",
       "    </tr>\n",
       "  </tbody>\n",
       "</table>\n",
       "<p>5 rows × 34 columns</p>\n",
       "</div>"
      ],
      "text/plain": [
       "                                     document_id  \\\n",
       "1567   fdca313f-b348-422d-94d4-f2c66a87868c-i0b0   \n",
       "6250   b7431955-1faa-4c1e-9246-7c1e7b8bb3cb-i0b0   \n",
       "9569   fdb8d3b6-14d9-4bcc-9cfe-acd46b4a317a-i0b0   \n",
       "11338  647e2301-3ba4-463a-8d1e-2b6f38a4d99e-i0b0   \n",
       "15144  7f469e03-bece-49d0-bebc-33ad98e27f54-i0b0   \n",
       "\n",
       "                                             paciente_id  paciente_idade  \\\n",
       "1567   f5e6b8c44f7c4d13a87c582def5e8d460435b02f26af8c...              17   \n",
       "6250   e1a45c07e3c393d5f0eccf4204a7ceab338f4f06696ecb...              16   \n",
       "9569   7cf3b238383a70eeb26841c01817737c9706d5b231e8c2...              17   \n",
       "11338  53eb7fed5faa26ad17ce21ee378f28e25399ab7e90bc05...              17   \n",
       "15144  dbaa6420d8a815158387668d0a59a19cf2bb63958e35d1...              16   \n",
       "\n",
       "      paciente_datanascimento paciente_enumsexobiologico  \\\n",
       "1567               2003-07-18                          F   \n",
       "6250               2004-05-18                          M   \n",
       "9569               2004-01-23                          F   \n",
       "11338              2003-05-04                          F   \n",
       "15144              2004-08-22                          F   \n",
       "\n",
       "       paciente_racacor_codigo paciente_racacor_valor  \\\n",
       "1567                         4                AMARELA   \n",
       "6250                         3                  PARDA   \n",
       "9569                        99         SEM INFORMACAO   \n",
       "11338                        4                AMARELA   \n",
       "15144                        5               INDIGENA   \n",
       "\n",
       "       paciente_endereco_coibgemunicipio  paciente_endereco_copais  \\\n",
       "1567                            120025.0                      10.0   \n",
       "6250                            120040.0                      10.0   \n",
       "9569                            120020.0                      10.0   \n",
       "11338                           120030.0                      10.0   \n",
       "15144                           120035.0                      10.0   \n",
       "\n",
       "      paciente_endereco_nmmunicipio  ... vacina_lote vacina_fabricante_nome  \\\n",
       "1567                 EPITACIOLANDIA  ...  213VCD003W  FUNDACAO OSWALDO CRUZ   \n",
       "6250                     RIO BRANCO  ...      200278      FUNDACAO BUTANTAN   \n",
       "9569                CRUZEIRO DO SUL  ...  213VCD042Z  FUNDACAO OSWALDO CRUZ   \n",
       "11338                         FEIJO  ...    4120Z004  FUNDACAO OSWALDO CRUZ   \n",
       "15144          MARECHAL THAUMATURGO  ...   202010028      FUNDACAO BUTANTAN   \n",
       "\n",
       "       vacina_fabricante_referencia vacina_dataaplicacao  \\\n",
       "1567    Organization/33781055000135           2021-05-12   \n",
       "6250    Organization/61189445000156           2021-01-29   \n",
       "9569    Organization/33781055000135           2021-05-15   \n",
       "11338   Organization/33781055000135           2021-02-09   \n",
       "15144   Organization/61189445000156           2021-01-28   \n",
       "\n",
       "       vacina_descricao_dose vacina_codigo  \\\n",
       "1567                 1ª Dose            85   \n",
       "6250                 1ª Dose            86   \n",
       "9569                 1ª Dose            85   \n",
       "11338                1ª Dose            85   \n",
       "15144                1ª Dose            86   \n",
       "\n",
       "                               vacina_nome  sistema_origem  \\\n",
       "1567          Vacina Covid-19 - Covishield        Novo PNI   \n",
       "6250   Covid-19-Coronavac-Sinovac/Butantan        Novo PNI   \n",
       "9569          Vacina Covid-19 - Covishield        Novo PNI   \n",
       "11338         Vacina Covid-19 - Covishield        Novo PNI   \n",
       "15144  Covid-19-Coronavac-Sinovac/Butantan        Novo PNI   \n",
       "\n",
       "           data_importacao_rnds id_sistema_origem  \n",
       "1567   2021-05-13T16:16:42.000Z               NaN  \n",
       "6250   2021-02-06T14:02:07.000Z               NaN  \n",
       "9569   2021-05-18T03:17:02.000Z               NaN  \n",
       "11338  2021-02-09T22:08:13.000Z               NaN  \n",
       "15144  2021-02-09T19:26:03.000Z               NaN  \n",
       "\n",
       "[5 rows x 34 columns]"
      ]
     },
     "execution_count": 93,
     "metadata": {},
     "output_type": "execute_result"
    }
   ],
   "source": [
    "# 1)\n",
    "df_copy = df[df[\"paciente_idade\"] < 18].copy()\n",
    "df_copy.head()"
   ]
  },
  {
   "cell_type": "code",
   "execution_count": 97,
   "metadata": {
    "id": "sLyevPRBC8-8"
   },
   "outputs": [
    {
     "data": {
      "text/plain": [
       "Index(['document_id', 'paciente_id', 'paciente_idade',\n",
       "       'paciente_datanascimento', 'paciente_enumsexobiologico',\n",
       "       'paciente_racacor_codigo', 'paciente_racacor_valor',\n",
       "       'paciente_endereco_coibgemunicipio', 'paciente_endereco_copais',\n",
       "       'paciente_endereco_nmmunicipio', 'paciente_endereco_nmpais',\n",
       "       'paciente_endereco_uf', 'paciente_endereco_cep',\n",
       "       'paciente_nacionalidade_enumnacionalidade', 'estabelecimento_valor',\n",
       "       'estabelecimento_razaosocial', 'estalecimento_nofantasia',\n",
       "       'estabelecimento_municipio_codigo', 'estabelecimento_municipio_nome',\n",
       "       'estabelecimento_uf', 'vacina_grupoatendimento_codigo',\n",
       "       'vacina_grupoatendimento_nome', 'vacina_categoria_codigo',\n",
       "       'vacina_categoria_nome', 'vacina_lote', 'vacina_fabricante_nome',\n",
       "       'vacina_fabricante_referencia', 'vacina_dataaplicacao',\n",
       "       'vacina_descricao_dose', 'vacina_codigo', 'vacina_nome',\n",
       "       'sistema_origem', 'data_importacao_rnds', 'id_sistema_origem'],\n",
       "      dtype='object')"
      ]
     },
     "execution_count": 97,
     "metadata": {},
     "output_type": "execute_result"
    }
   ],
   "source": [
    "# 2)\n",
    "lista_colunas = df_copy.columns\n",
    "lista_colunas"
   ]
  },
  {
   "cell_type": "code",
   "execution_count": 98,
   "metadata": {
    "id": "lZAW-Dp8C8-8"
   },
   "outputs": [
    {
     "data": {
      "text/plain": [
       "vacina_categoria_nome\n",
       "Povos Indígenas                     33\n",
       "Trabalhadores de Saúde               9\n",
       "Povos e Comunidades Tradicionais     9\n",
       "Comorbidades                         2\n",
       "Faixa Etária                         1\n",
       "Name: count, dtype: int64"
      ]
     },
     "execution_count": 98,
     "metadata": {},
     "output_type": "execute_result"
    }
   ],
   "source": [
    "# 3)\n",
    "contagem = df_copy['vacina_categoria_nome'].value_counts()\n",
    "contagem"
   ]
  },
  {
   "cell_type": "code",
   "execution_count": 99,
   "metadata": {
    "id": "xxYsxrxAC8-8"
   },
   "outputs": [
    {
     "data": {
      "text/plain": [
       "['estabelecimento_valor',\n",
       " 'estabelecimento_razaosocial',\n",
       " 'estabelecimento_municipio_codigo',\n",
       " 'estabelecimento_municipio_nome',\n",
       " 'estabelecimento_uf']"
      ]
     },
     "execution_count": 99,
     "metadata": {},
     "output_type": "execute_result"
    }
   ],
   "source": [
    "# 4)\n",
    "colunas_estabelecimento = [col for col in lista_colunas if 'estabelecimento' in col.lower()]\n",
    "colunas_estabelecimento"
   ]
  },
  {
   "cell_type": "code",
   "execution_count": 100,
   "metadata": {
    "id": "vaX2x_0rC8-8"
   },
   "outputs": [],
   "source": [
    "# 5)\n",
    "df_estabelecimento = df_copy.loc[:, colunas_estabelecimento]"
   ]
  },
  {
   "cell_type": "code",
   "execution_count": 101,
   "metadata": {},
   "outputs": [
    {
     "data": {
      "text/html": [
       "<div>\n",
       "<style scoped>\n",
       "    .dataframe tbody tr th:only-of-type {\n",
       "        vertical-align: middle;\n",
       "    }\n",
       "\n",
       "    .dataframe tbody tr th {\n",
       "        vertical-align: top;\n",
       "    }\n",
       "\n",
       "    .dataframe thead th {\n",
       "        text-align: right;\n",
       "    }\n",
       "</style>\n",
       "<table border=\"1\" class=\"dataframe\">\n",
       "  <thead>\n",
       "    <tr style=\"text-align: right;\">\n",
       "      <th></th>\n",
       "      <th>estabelecimento_valor</th>\n",
       "      <th>estabelecimento_razaosocial</th>\n",
       "      <th>estabelecimento_municipio_codigo</th>\n",
       "      <th>estabelecimento_municipio_nome</th>\n",
       "      <th>estabelecimento_uf</th>\n",
       "    </tr>\n",
       "  </thead>\n",
       "  <tbody>\n",
       "    <tr>\n",
       "      <th>1567</th>\n",
       "      <td>2001314</td>\n",
       "      <td>PREFEITURA MUNICIPAL DE EPITACIOLANDIA</td>\n",
       "      <td>120025</td>\n",
       "      <td>EPITACIOLANDIA</td>\n",
       "      <td>AC</td>\n",
       "    </tr>\n",
       "    <tr>\n",
       "      <th>6250</th>\n",
       "      <td>6917291</td>\n",
       "      <td>PREFEITURA MUNICIPAL DE RIO BRANCO</td>\n",
       "      <td>120040</td>\n",
       "      <td>RIO BRANCO</td>\n",
       "      <td>AC</td>\n",
       "    </tr>\n",
       "    <tr>\n",
       "      <th>9569</th>\n",
       "      <td>6159087</td>\n",
       "      <td>PREFEITURA MUNICIPAL DE CRUZEIRO DO SUL</td>\n",
       "      <td>120020</td>\n",
       "      <td>CRUZEIRO DO SUL</td>\n",
       "      <td>AC</td>\n",
       "    </tr>\n",
       "    <tr>\n",
       "      <th>11338</th>\n",
       "      <td>2000040</td>\n",
       "      <td>PREFEITURA MUNICIPAL DE FEIJO</td>\n",
       "      <td>120030</td>\n",
       "      <td>FEIJO</td>\n",
       "      <td>AC</td>\n",
       "    </tr>\n",
       "    <tr>\n",
       "      <th>15144</th>\n",
       "      <td>7625855</td>\n",
       "      <td>DISTRITO SANITARIO ESPECIAL INDIGENA ALTO RIO ...</td>\n",
       "      <td>120035</td>\n",
       "      <td>MARECHAL THAUMATURGO</td>\n",
       "      <td>AC</td>\n",
       "    </tr>\n",
       "    <tr>\n",
       "      <th>17153</th>\n",
       "      <td>6748759</td>\n",
       "      <td>DISTRITO SANITARIO ESPECIAL INDIGENA ALTO RIO ...</td>\n",
       "      <td>120030</td>\n",
       "      <td>FEIJO</td>\n",
       "      <td>AC</td>\n",
       "    </tr>\n",
       "    <tr>\n",
       "      <th>18361</th>\n",
       "      <td>6308740</td>\n",
       "      <td>DISTRITO SANITARIO ESPECIAL INDIGENA ALTO RIO ...</td>\n",
       "      <td>120039</td>\n",
       "      <td>PORTO WALTER</td>\n",
       "      <td>AC</td>\n",
       "    </tr>\n",
       "    <tr>\n",
       "      <th>18608</th>\n",
       "      <td>2001748</td>\n",
       "      <td>PREFEITURA MUNICIPAL DE PORTO WALTER</td>\n",
       "      <td>120039</td>\n",
       "      <td>PORTO WALTER</td>\n",
       "      <td>AC</td>\n",
       "    </tr>\n",
       "    <tr>\n",
       "      <th>20204</th>\n",
       "      <td>6917682</td>\n",
       "      <td>DISTRITO SANITARIO ESPECIAL INDIGENA ALTO RIO ...</td>\n",
       "      <td>120020</td>\n",
       "      <td>CRUZEIRO DO SUL</td>\n",
       "      <td>AC</td>\n",
       "    </tr>\n",
       "    <tr>\n",
       "      <th>21119</th>\n",
       "      <td>6428940</td>\n",
       "      <td>PREFEITURA MUNICIPAL DE ASSIS BRASIL</td>\n",
       "      <td>120005</td>\n",
       "      <td>ASSIS BRASIL</td>\n",
       "      <td>AC</td>\n",
       "    </tr>\n",
       "    <tr>\n",
       "      <th>29127</th>\n",
       "      <td>6612385</td>\n",
       "      <td>PREFEITURA MUNICIPAL DE TARAUACA</td>\n",
       "      <td>120060</td>\n",
       "      <td>TARAUACA</td>\n",
       "      <td>AC</td>\n",
       "    </tr>\n",
       "    <tr>\n",
       "      <th>57405</th>\n",
       "      <td>9648968</td>\n",
       "      <td>DISTRITO SANITARIO ESPECIAL DE SAUDE INDIGENA ...</td>\n",
       "      <td>120034</td>\n",
       "      <td>MANOEL URBANO</td>\n",
       "      <td>AC</td>\n",
       "    </tr>\n",
       "    <tr>\n",
       "      <th>61131</th>\n",
       "      <td>6430201</td>\n",
       "      <td>DISTRITO SANITARIO ESPECIAL INDIGENA ALTO JURUA</td>\n",
       "      <td>120032</td>\n",
       "      <td>JORDAO</td>\n",
       "      <td>AC</td>\n",
       "    </tr>\n",
       "    <tr>\n",
       "      <th>68290</th>\n",
       "      <td>6955525</td>\n",
       "      <td>DISTRITO SANITARIO ESPECIAL INDIGENA ALTO RIO ...</td>\n",
       "      <td>120033</td>\n",
       "      <td>MANCIO LIMA</td>\n",
       "      <td>AC</td>\n",
       "    </tr>\n",
       "    <tr>\n",
       "      <th>69882</th>\n",
       "      <td>5336171</td>\n",
       "      <td>SECRETARIA DE ESTADO DE SAUDE DO ACRE</td>\n",
       "      <td>120020</td>\n",
       "      <td>CRUZEIRO DO SUL</td>\n",
       "      <td>AC</td>\n",
       "    </tr>\n",
       "    <tr>\n",
       "      <th>70881</th>\n",
       "      <td>6697151</td>\n",
       "      <td>MINISTERIO DA SAUDE</td>\n",
       "      <td>120050</td>\n",
       "      <td>SENA MADUREIRA</td>\n",
       "      <td>AC</td>\n",
       "    </tr>\n",
       "    <tr>\n",
       "      <th>101402</th>\n",
       "      <td>3323307</td>\n",
       "      <td>PREFEITURA MUNICIPAL DE PORTO ACRE</td>\n",
       "      <td>120080</td>\n",
       "      <td>PORTO ACRE</td>\n",
       "      <td>AC</td>\n",
       "    </tr>\n",
       "    <tr>\n",
       "      <th>140895</th>\n",
       "      <td>7123043</td>\n",
       "      <td>PREFEITURA MUNICIPAL DE JORDAO</td>\n",
       "      <td>120032</td>\n",
       "      <td>JORDAO</td>\n",
       "      <td>AC</td>\n",
       "    </tr>\n",
       "  </tbody>\n",
       "</table>\n",
       "</div>"
      ],
      "text/plain": [
       "        estabelecimento_valor  \\\n",
       "1567                  2001314   \n",
       "6250                  6917291   \n",
       "9569                  6159087   \n",
       "11338                 2000040   \n",
       "15144                 7625855   \n",
       "17153                 6748759   \n",
       "18361                 6308740   \n",
       "18608                 2001748   \n",
       "20204                 6917682   \n",
       "21119                 6428940   \n",
       "29127                 6612385   \n",
       "57405                 9648968   \n",
       "61131                 6430201   \n",
       "68290                 6955525   \n",
       "69882                 5336171   \n",
       "70881                 6697151   \n",
       "101402                3323307   \n",
       "140895                7123043   \n",
       "\n",
       "                              estabelecimento_razaosocial  \\\n",
       "1567               PREFEITURA MUNICIPAL DE EPITACIOLANDIA   \n",
       "6250                   PREFEITURA MUNICIPAL DE RIO BRANCO   \n",
       "9569              PREFEITURA MUNICIPAL DE CRUZEIRO DO SUL   \n",
       "11338                       PREFEITURA MUNICIPAL DE FEIJO   \n",
       "15144   DISTRITO SANITARIO ESPECIAL INDIGENA ALTO RIO ...   \n",
       "17153   DISTRITO SANITARIO ESPECIAL INDIGENA ALTO RIO ...   \n",
       "18361   DISTRITO SANITARIO ESPECIAL INDIGENA ALTO RIO ...   \n",
       "18608                PREFEITURA MUNICIPAL DE PORTO WALTER   \n",
       "20204   DISTRITO SANITARIO ESPECIAL INDIGENA ALTO RIO ...   \n",
       "21119                PREFEITURA MUNICIPAL DE ASSIS BRASIL   \n",
       "29127                    PREFEITURA MUNICIPAL DE TARAUACA   \n",
       "57405   DISTRITO SANITARIO ESPECIAL DE SAUDE INDIGENA ...   \n",
       "61131     DISTRITO SANITARIO ESPECIAL INDIGENA ALTO JURUA   \n",
       "68290   DISTRITO SANITARIO ESPECIAL INDIGENA ALTO RIO ...   \n",
       "69882               SECRETARIA DE ESTADO DE SAUDE DO ACRE   \n",
       "70881                                 MINISTERIO DA SAUDE   \n",
       "101402                 PREFEITURA MUNICIPAL DE PORTO ACRE   \n",
       "140895                     PREFEITURA MUNICIPAL DE JORDAO   \n",
       "\n",
       "        estabelecimento_municipio_codigo estabelecimento_municipio_nome  \\\n",
       "1567                              120025                 EPITACIOLANDIA   \n",
       "6250                              120040                     RIO BRANCO   \n",
       "9569                              120020                CRUZEIRO DO SUL   \n",
       "11338                             120030                          FEIJO   \n",
       "15144                             120035           MARECHAL THAUMATURGO   \n",
       "17153                             120030                          FEIJO   \n",
       "18361                             120039                   PORTO WALTER   \n",
       "18608                             120039                   PORTO WALTER   \n",
       "20204                             120020                CRUZEIRO DO SUL   \n",
       "21119                             120005                   ASSIS BRASIL   \n",
       "29127                             120060                       TARAUACA   \n",
       "57405                             120034                  MANOEL URBANO   \n",
       "61131                             120032                         JORDAO   \n",
       "68290                             120033                    MANCIO LIMA   \n",
       "69882                             120020                CRUZEIRO DO SUL   \n",
       "70881                             120050                 SENA MADUREIRA   \n",
       "101402                            120080                     PORTO ACRE   \n",
       "140895                            120032                         JORDAO   \n",
       "\n",
       "       estabelecimento_uf  \n",
       "1567                   AC  \n",
       "6250                   AC  \n",
       "9569                   AC  \n",
       "11338                  AC  \n",
       "15144                  AC  \n",
       "17153                  AC  \n",
       "18361                  AC  \n",
       "18608                  AC  \n",
       "20204                  AC  \n",
       "21119                  AC  \n",
       "29127                  AC  \n",
       "57405                  AC  \n",
       "61131                  AC  \n",
       "68290                  AC  \n",
       "69882                  AC  \n",
       "70881                  AC  \n",
       "101402                 AC  \n",
       "140895                 AC  "
      ]
     },
     "execution_count": 101,
     "metadata": {},
     "output_type": "execute_result"
    }
   ],
   "source": [
    "# 6)\n",
    "df_estabelecimentos_unicos = df_estabelecimento.drop_duplicates()\n",
    "df_estabelecimentos_unicos"
   ]
  },
  {
   "cell_type": "code",
   "execution_count": null,
   "metadata": {},
   "outputs": [],
   "source": []
  }
 ],
 "metadata": {
  "colab": {
   "provenance": []
  },
  "kernelspec": {
   "display_name": "Python [conda env:base] *",
   "language": "python",
   "name": "conda-base-py"
  },
  "language_info": {
   "codemirror_mode": {
    "name": "ipython",
    "version": 3
   },
   "file_extension": ".py",
   "mimetype": "text/x-python",
   "name": "python",
   "nbconvert_exporter": "python",
   "pygments_lexer": "ipython3",
   "version": "3.12.7"
  },
  "toc": {
   "base_numbering": 1,
   "nav_menu": {},
   "number_sections": false,
   "sideBar": true,
   "skip_h1_title": true,
   "title_cell": "Índice",
   "title_sidebar": "Conteúdo",
   "toc_cell": false,
   "toc_position": {},
   "toc_section_display": true,
   "toc_window_display": false
  },
  "varInspector": {
   "cols": {
    "lenName": 16,
    "lenType": 16,
    "lenVar": 40
   },
   "kernels_config": {
    "python": {
     "delete_cmd_postfix": "",
     "delete_cmd_prefix": "del ",
     "library": "var_list.py",
     "varRefreshCmd": "print(var_dic_list())"
    },
    "r": {
     "delete_cmd_postfix": ") ",
     "delete_cmd_prefix": "rm(",
     "library": "var_list.r",
     "varRefreshCmd": "cat(var_dic_list()) "
    }
   },
   "types_to_exclude": [
    "module",
    "function",
    "builtin_function_or_method",
    "instance",
    "_Feature"
   ],
   "window_display": false
  }
 },
 "nbformat": 4,
 "nbformat_minor": 4
}
